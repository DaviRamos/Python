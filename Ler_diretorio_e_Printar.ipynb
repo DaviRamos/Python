{
 "cells": [
  {
   "cell_type": "code",
   "execution_count": 9,
   "metadata": {},
   "outputs": [],
   "source": [
    "from os import walk\n",
    "from os import listdir\n",
    "from os.path import isfile, join"
   ]
  },
  {
   "cell_type": "code",
   "execution_count": 10,
   "metadata": {},
   "outputs": [],
   "source": [
    "cwd = os.getcwd()"
   ]
  },
  {
   "cell_type": "code",
   "execution_count": 33,
   "metadata": {},
   "outputs": [
    {
     "name": "stdout",
     "output_type": "stream",
     "text": [
      "['1025_Execucao_obrigacoes_fazer_e_nao_fazer.7z', '1099_Acolhendorejeit. embargos s alt. result. desfavorávelparc.7z', '10_Desfavorável ao Estado.7z', '1101_Para manifestacao_providencias_em_05_dias.7z', '1102_Para conhecimento_da_distribuicao_redistribuicao.7z', '1104_Cumpra_se_Sentenca_Acordao_Decisao.7z', '1108_Falar_sobre_calculos.7z', '1114_Arquivamento dos autos.7z', '1117_Nomeacao_de_perito_indicar_assistente_e_quesitos.7z', '1141_Liminar_Tutela_Negada_ou_nao_solicitada.7z', '1151_Para manifestacao_providencias_em_10_dias.7z', '1249_Cumpra-se obrigação de fazer.7z', '1515_Especificar localizacao do executado - diligencia negativa.7z', '1516_Extinta_a_execucao.7z', '1517_Informando_suspensao_do_processo.7z', '1519_Excecao_de_pre_executividade.7z', '1534_Recebidos_os_Embargos_a_Execucao_Com_suspensao_da_Execucao.7z', '1535_Determinado o desbloqueio_penhora on line.7z', '1544_Julgamento de Mérito.7z', '1553_Recurso.7z', '1569_Determinada a Manifestacao do Exequente.7z', '1570_Despacho.7z', '1572_Mandado de Levantamento.7z', '1573_Realizado_Calculo_Reexame_Necessario.7z', '1635_Pagamento integral do débito.7z', '1636_Pela_Satisfacao_da_Obrigacao.7z', '1638_Concedida a Dilação de Prazo.7z', '1645_Ato Ordinatório.7z', '1647_Mero expediente.7z', '1649_Penhora.7z', '1761_Impugnacao_ Art_535_CPC.7z', '193_Favorável ao Estado.7z', '24_Designacaoo.7z', '302_do_Estado_com_audiencia_designada.7z', '315_Para_contra_minutar.7z', '329_Sem_providencias.7z', '330_Pauta_de_Sessao_de_Julgamento.7z', '446_Desfavorável ao Estado.7z', '49_Com_antecipacao_de_tutela_ Liminar_deferida.7z', '56_Com liminar_Tutela antecipada.7z', '64_Para contra_arrazoar.7z', '66_Desfavorável ao Estado.7z', '7_Favorável ao Estado.7z', '990_Com_intimcao_para_manif._em_10_dias_sobre_tutela_liminar.7z', '9998025_Impugnacao_aos_embargos_de_declaracao_1023_2o.7z', 'Untitled.ipynb']\n"
     ]
    }
   ],
   "source": [
    "path = cwd\n",
    "files = [f for f in listdir(path) if isfile(join(path, f))]\n",
    "files =sorted(files)\n",
    "print(files)"
   ]
  },
  {
   "cell_type": "code",
   "execution_count": 32,
   "metadata": {},
   "outputs": [
    {
     "name": "stdout",
     "output_type": "stream",
     "text": [
      "1099_Acolhendorejeit. embargos s alt. result. desfavorávelparc.7z\n",
      "10_Desfavorável ao Estado.7z\n",
      "1101_Para manifestacao_providencias_em_05_dias.7z\n",
      "1102_Para conhecimento_da_distribuicao_redistribuicao.7z\n",
      "1104_Cumpra_se_Sentenca_Acordao_Decisao.7z\n",
      "1108_Falar_sobre_calculos.7z\n",
      "1114_Arquivamento dos autos.7z\n",
      "1117_Nomeacao_de_perito_indicar_assistente_e_quesitos.7z\n",
      "1141_Liminar_Tutela_Negada_ou_nao_solicitada.7z\n",
      "1151_Para manifestacao_providencias_em_10_dias.7z\n",
      "1249_Cumpra-se obrigação de fazer.7z\n",
      "1515_Especificar localizacao do executado - diligencia negativa.7z\n",
      "1516_Extinta_a_execucao.7z\n",
      "1517_Informando_suspensao_do_processo.7z\n",
      "1519_Excecao_de_pre_executividade.7z\n",
      "1534_Recebidos_os_Embargos_a_Execucao_Com_suspensao_da_Execucao.7z\n",
      "1535_Determinado o desbloqueio_penhora on line.7z\n",
      "1544_Julgamento de Mérito.7z\n",
      "1553_Recurso.7z\n",
      "1569_Determinada a Manifestacao do Exequente.7z\n",
      "1570_Despacho.7z\n",
      "1572_Mandado de Levantamento.7z\n",
      "1573_Realizado_Calculo_Reexame_Necessario.7z\n",
      "1635_Pagamento integral do débito.7z\n",
      "1636_Pela_Satisfacao_da_Obrigacao.7z\n",
      "1638_Concedida a Dilação de Prazo.7z\n",
      "1645_Ato Ordinatório.7z\n",
      "1647_Mero expediente.7z\n",
      "1649_Penhora.7z\n",
      "1761_Impugnacao_ Art_535_CPC.7z\n",
      "193_Favorável ao Estado.7z\n",
      "24_Designacaoo.7z\n",
      "302_do_Estado_com_audiencia_designada.7z\n",
      "315_Para_contra_minutar.7z\n",
      "329_Sem_providencias.7z\n",
      "330_Pauta_de_Sessao_de_Julgamento.7z\n",
      "446_Desfavorável ao Estado.7z\n",
      "49_Com_antecipacao_de_tutela_ Liminar_deferida.7z\n",
      "56_Com liminar_Tutela antecipada.7z\n",
      "64_Para contra_arrazoar.7z\n",
      "66_Desfavorável ao Estado.7z\n",
      "7_Favorável ao Estado.7z\n",
      "990_Com_intimcao_para_manif._em_10_dias_sobre_tutela_liminar.7z\n",
      "9998025_Impugnacao_aos_embargos_de_declaracao_1023_2o.7z\n",
      "Untitled.ipynb\n"
     ]
    }
   ],
   "source": [
    "butFirst = files[1:]\n",
    "eachInASeparateLine = \"\\n\".join(butFirst)\n",
    "\n",
    "print(eachInASeparateLine)"
   ]
  },
  {
   "cell_type": "code",
   "execution_count": 19,
   "metadata": {},
   "outputs": [
    {
     "name": "stdout",
     "output_type": "stream",
     "text": [
      "Hello\n",
      "This\n",
      "Is\n",
      "Great\n"
     ]
    }
   ],
   "source": []
  },
  {
   "cell_type": "code",
   "execution_count": null,
   "metadata": {},
   "outputs": [],
   "source": []
  }
 ],
 "metadata": {
  "kernelspec": {
   "display_name": "Python 3",
   "language": "python",
   "name": "python3"
  },
  "language_info": {
   "codemirror_mode": {
    "name": "ipython",
    "version": 3
   },
   "file_extension": ".py",
   "mimetype": "text/x-python",
   "name": "python",
   "nbconvert_exporter": "python",
   "pygments_lexer": "ipython3",
   "version": "3.8.3"
  }
 },
 "nbformat": 4,
 "nbformat_minor": 4
}
