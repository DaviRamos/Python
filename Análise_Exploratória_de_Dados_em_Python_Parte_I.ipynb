{
  "nbformat": 4,
  "nbformat_minor": 0,
  "metadata": {
    "colab": {
      "name": " Análise Exploratória de Dados em Python - Parte  I.ipynb",
      "provenance": [],
      "collapsed_sections": [],
      "toc_visible": true,
      "include_colab_link": true
    },
    "kernelspec": {
      "name": "python3",
      "display_name": "Python 3"
    }
  },
  "cells": [
    {
      "cell_type": "markdown",
      "metadata": {
        "id": "view-in-github",
        "colab_type": "text"
      },
      "source": [
        "<a href=\"https://colab.research.google.com/github/DaviRamos/Python/blob/master/An%C3%A1lise_Explorat%C3%B3ria_de_Dados_em_Python_Parte_I.ipynb\" target=\"_parent\"><img src=\"https://colab.research.google.com/assets/colab-badge.svg\" alt=\"Open In Colab\"/></a>"
      ]
    },
    {
      "cell_type": "markdown",
      "metadata": {
        "id": "K1FsaC50D8B2",
        "colab_type": "text"
      },
      "source": [
        "[![Dados ao Cubo](https://dadosaocubo.com/wp-content/uploads/2020/06/DADOS-AO-CUBO-Vers%C3%A3o-04-1.png)](http://dadosaocubo.com/)\n",
        "\n",
        "Alan Fros (alan@dadosaocubo.com)\n",
        "\n",
        "[![LinkedIn](https://dadosaocubo.com/wp-content/uploads/2020/07/Linkedin.png)](https://www.linkedin.com/in/alanfros/) [![GitHub](https://dadosaocubo.com/wp-content/uploads/2020/07/Github.png)](https://www.github.com/alanfros/)\n",
        " \n"
      ]
    },
    {
      "cell_type": "markdown",
      "metadata": {
        "id": "UakkhbGInaZZ",
        "colab_type": "text"
      },
      "source": [
        "E ai pessoal, tudo bem por aí? Hoje vamos falar da teoria e aplicação prática da Estatística Descritiva Univariada utilizando a linguagem Python na Análise Exploratória de Dados. \n",
        "\n",
        "Caso ainda não tenha visto a minha postagem anterior abordando um pouco da teoria, acesse aqui: [Estatística Descritiva Univariada](https://dadosaocubo.com/estatistica-descritiva-univariada/). "
      ]
    },
    {
      "cell_type": "markdown",
      "metadata": {
        "id": "G4wjjfmTojou",
        "colab_type": "text"
      },
      "source": [
        "![AED](https://dadosaocubo.com/wp-content/uploads/2020/07/image1-3-1024x678.jpg)"
      ]
    },
    {
      "cell_type": "markdown",
      "metadata": {
        "id": "e5ybYRFJqr7S",
        "colab_type": "text"
      },
      "source": [
        "# **Análise Exploratória de Dados (AED)**\n",
        "A estatística descritiva é a etapa inicial da análise utilizada para descrever e resumir os dados.\n",
        "\n",
        "A Análise Exploratória de Dados(do inglês, EDA - Exploratory Data Analysis) começa antes da aplicação de qualquer técnica estatística. É nessa etapa que exploramos e conhecemos os nossos dados, fazendo uso de ferramentas estatísticas e de visualização. Sobre a AED, podemos afirmar que:\n",
        "\n",
        "\n",
        "\n",
        "*   É um processo iterativo e cíclico.\n",
        "*   Geramos questões que julgamos relevantes para o negócio.\n",
        "*   Buscamos respondê-las através de gráficos, manipulação e estatísticas sobre os dados.\n",
        "*   Refinamos as questões e as utilizamos para gerar novas questões pertinentes.\n",
        "\n",
        "A Análise Exploratória de Dados vai além do uso descritivo da estatística, é olhar de forma mais profunda os dados, sem resumir muito a quantidade e qualidade das informações.\n",
        "\n",
        "É de suma importância que executemos essa fase com total cuidado e atenção antes de realizarmos qualquer outro tipo mais avançado de tratamento nos dados. Uma AED mal realizada pode levar a erros e complicações na base de dados, uma má interpretação das questões importantes e que agreguem maior valor, e na pior das hipóteses, a total invalidação da análise (por exemplo, se os dados disponíveis forem totalmente incapazes de responder às questões levantadas).\n",
        "\n",
        "\n",
        "Uma parte crucial, mas que geralmente é vista superficialmente ou subvalorizada por quem está começando empolgado, é a estatística. A estatística é a base teórica da ciência de dados, sem ela não seria possível desenvolver com segurança nenhum dos modelos ou algoritmos que fazemos uso hoje.\n",
        "\n",
        "Como cientistas de dados, nossa missão é contar histórias utilizando dados,  e é muito difícil contar uma boa história a partir dos dados sem usar estatística.\n",
        "\n"
      ]
    },
    {
      "cell_type": "markdown",
      "metadata": {
        "id": "6dwuz3SpjVIf",
        "colab_type": "text"
      },
      "source": [
        "##Estatística básica\n",
        "\n",
        "###Análise univariada\n",
        "\n",
        "A análise univariada consiste em analisar cada variável da amostra:\n",
        "\n",
        "Classificar o seu tipo quanto qualitativa (nominal ou ordinal) ou quantitativa (discreta ou contínua). Obter tabelas, gráficos e/ou medidas que possam descrever a variável. A partir destes resultados pode-se montar um resumo geral dos dados.\n",
        "\n",
        "Quando se estuda uma variável, o maior interesse do cientista de dados é conhecer o comportamento dessa variável, analisando a ocorrência de suas possíveis realizações. Nesse sentido, as distribuições de frequência serão o principal recurso utilizado uma única variável."
      ]
    },
    {
      "cell_type": "markdown",
      "metadata": {
        "id": "tjgOgECOqGHr",
        "colab_type": "text"
      },
      "source": [
        "##Variáveis\n",
        "Quando fazemos uma amostragem(retirar uma parte da base), não coletamos apenas a informação da característica em que temos  interesse, mas tantas \n",
        "outras informações que nos ajudarão no entendimento desta característica.\n",
        "\n",
        "Cada uma das características da população amostrada, como peso, altura, sexo ou idade, é denominada de uma variável. As variáveis podem assumir valores distintos, que basicamente podemos separá-los em **Numéricos (variáveis quantitativa)** ou **Categóricos (variáveis qualitativas)**. Então, vamos ver abaixo como ficam divididas essa classificação das variáveis:\n",
        "\n",
        "\n",
        "![Variáveis](https://dadosaocubo.com/wp-content/uploads/2020/07/numericos_categoricos.png)\n",
        "Agora vamos entender melhor cada tipo de variável.\n",
        "\n",
        "###Classificação de variáveis\n",
        "As variáveis quantitativas ou numéricas podem ser:\n",
        "\n",
        "**Discretas**: possuem apenas valores inteiros. *Ex.: número de irmãos, número de passageiros.*\n",
        "\n",
        "\n",
        "**Contínuas**: possuem qualquer valor, incluindo  números reais(*float).  Ex.: peso, altura.*\n",
        "\n",
        "\n",
        "\n",
        "As variáveis **categóricas** podem ser:\n",
        "\n",
        "**Nominais**: quando as categorias não podem ser ordenadas de alguma maneira. *Ex.: nomes, cores, sexo.*\n",
        "\n",
        "**Ordinais**:  nesse caso as categorias podem ser ordenadas. *Ex.: tamanho (pequeno, médio, grande), classe social (baixa, média, alta), grau de instrução (básico, médio, graduação, pós-graduação).*\n",
        "\n",
        "\n",
        "\n",
        "\n"
      ]
    },
    {
      "cell_type": "markdown",
      "metadata": {
        "id": "-2jqqdAju7VB",
        "colab_type": "text"
      },
      "source": [
        "Bem, agora vamos ver algumas das principais técnicas para a EDA com a biblioteca Pandas em Python, acompanhado de um pouco de teoria.\n",
        "\n",
        "[![Pandas](https://dadosaocubo.com/wp-content/uploads/2020/07/pandas.png)](https://pandas.pydata.org/docs/#)"
      ]
    },
    {
      "cell_type": "markdown",
      "metadata": {
        "id": "BJElcCQ6DwXv",
        "colab_type": "text"
      },
      "source": [
        "### Importamos as bibliotecas\n"
      ]
    },
    {
      "cell_type": "code",
      "metadata": {
        "id": "7uQx_5M5GUF2",
        "colab_type": "code",
        "colab": {}
      },
      "source": [
        "import numpy as np # np é uma convenção para o numpy, convenção é um acordo estabelecido com o intuito de padronizar e facilitar o entendimento.\n",
        "import pandas as pd # pd é uma convenção para o pandas\n",
        "\n",
        "# Visualização de dados.\n",
        "import matplotlib.pyplot as plt # plt é uma convenção de alias para o matplotlib\n",
        "import seaborn as sns # sns é uma convenção de alias para o seaborn.\n",
        "\n",
        "from math import floor"
      ],
      "execution_count": null,
      "outputs": []
    },
    {
      "cell_type": "markdown",
      "metadata": {
        "id": "X-tHG8FdrrO_",
        "colab_type": "text"
      },
      "source": [
        "Agora vamos importar o dataset **iris** da biblioteca *scikit-learn* e utilizar algumas funções de análise dos dados."
      ]
    },
    {
      "cell_type": "code",
      "metadata": {
        "id": "OyDWX67e8fYq",
        "colab_type": "code",
        "colab": {
          "base_uri": "https://localhost:8080/",
          "height": 111
        },
        "outputId": "6c5d9e08-b89a-4bba-e4f8-db99f79a4312"
      },
      "source": [
        "from sklearn.datasets import load_iris\n",
        "\n",
        "iris = load_iris()\n",
        "X = iris.data[:, 0:5] # selecionando as colunas do 0 a 4 para a variável X, o 5 foi declarado, mas por padrão ele não é considerado.\n",
        "y = iris.target # definindo o y na variável targer, essa será nossa variavel dependente\n",
        "feature_names = ['sepal length (cm)', 'sepal width (cm)', 'petal length (cm)', 'petal width (cm)']\n",
        "target_names =  ['setosa', 'versicolor', 'virginica']\n",
        "X = pd.DataFrame(X, columns=feature_names)\n",
        "# utilizamos o head para exibir as primeiras linhas do dataframe (por padrão 5), no nosso exemplo vamos exibir apenas as 2 primeiras.\n",
        "X.head(2)"
      ],
      "execution_count": null,
      "outputs": [
        {
          "output_type": "execute_result",
          "data": {
            "text/html": [
              "<div>\n",
              "<style scoped>\n",
              "    .dataframe tbody tr th:only-of-type {\n",
              "        vertical-align: middle;\n",
              "    }\n",
              "\n",
              "    .dataframe tbody tr th {\n",
              "        vertical-align: top;\n",
              "    }\n",
              "\n",
              "    .dataframe thead th {\n",
              "        text-align: right;\n",
              "    }\n",
              "</style>\n",
              "<table border=\"1\" class=\"dataframe\">\n",
              "  <thead>\n",
              "    <tr style=\"text-align: right;\">\n",
              "      <th></th>\n",
              "      <th>sepal length (cm)</th>\n",
              "      <th>sepal width (cm)</th>\n",
              "      <th>petal length (cm)</th>\n",
              "      <th>petal width (cm)</th>\n",
              "    </tr>\n",
              "  </thead>\n",
              "  <tbody>\n",
              "    <tr>\n",
              "      <th>0</th>\n",
              "      <td>5.1</td>\n",
              "      <td>3.5</td>\n",
              "      <td>1.4</td>\n",
              "      <td>0.2</td>\n",
              "    </tr>\n",
              "    <tr>\n",
              "      <th>1</th>\n",
              "      <td>4.9</td>\n",
              "      <td>3.0</td>\n",
              "      <td>1.4</td>\n",
              "      <td>0.2</td>\n",
              "    </tr>\n",
              "  </tbody>\n",
              "</table>\n",
              "</div>"
            ],
            "text/plain": [
              "   sepal length (cm)  sepal width (cm)  petal length (cm)  petal width (cm)\n",
              "0                5.1               3.5                1.4               0.2\n",
              "1                4.9               3.0                1.4               0.2"
            ]
          },
          "metadata": {
            "tags": []
          },
          "execution_count": 17
        }
      ]
    },
    {
      "cell_type": "code",
      "metadata": {
        "id": "YT_X2Y9j9lRB",
        "colab_type": "code",
        "colab": {
          "base_uri": "https://localhost:8080/",
          "height": 204
        },
        "outputId": "83f9d3ff-a153-466b-a72d-2783c9d4ff12"
      },
      "source": [
        "X.sample(5) # Retorna uma amostra de n elementos"
      ],
      "execution_count": null,
      "outputs": [
        {
          "output_type": "execute_result",
          "data": {
            "text/html": [
              "<div>\n",
              "<style scoped>\n",
              "    .dataframe tbody tr th:only-of-type {\n",
              "        vertical-align: middle;\n",
              "    }\n",
              "\n",
              "    .dataframe tbody tr th {\n",
              "        vertical-align: top;\n",
              "    }\n",
              "\n",
              "    .dataframe thead th {\n",
              "        text-align: right;\n",
              "    }\n",
              "</style>\n",
              "<table border=\"1\" class=\"dataframe\">\n",
              "  <thead>\n",
              "    <tr style=\"text-align: right;\">\n",
              "      <th></th>\n",
              "      <th>sepal length (cm)</th>\n",
              "      <th>sepal width (cm)</th>\n",
              "      <th>petal length (cm)</th>\n",
              "      <th>petal width (cm)</th>\n",
              "    </tr>\n",
              "  </thead>\n",
              "  <tbody>\n",
              "    <tr>\n",
              "      <th>79</th>\n",
              "      <td>5.7</td>\n",
              "      <td>2.6</td>\n",
              "      <td>3.5</td>\n",
              "      <td>1.0</td>\n",
              "    </tr>\n",
              "    <tr>\n",
              "      <th>95</th>\n",
              "      <td>5.7</td>\n",
              "      <td>3.0</td>\n",
              "      <td>4.2</td>\n",
              "      <td>1.2</td>\n",
              "    </tr>\n",
              "    <tr>\n",
              "      <th>36</th>\n",
              "      <td>5.5</td>\n",
              "      <td>3.5</td>\n",
              "      <td>1.3</td>\n",
              "      <td>0.2</td>\n",
              "    </tr>\n",
              "    <tr>\n",
              "      <th>75</th>\n",
              "      <td>6.6</td>\n",
              "      <td>3.0</td>\n",
              "      <td>4.4</td>\n",
              "      <td>1.4</td>\n",
              "    </tr>\n",
              "    <tr>\n",
              "      <th>9</th>\n",
              "      <td>4.9</td>\n",
              "      <td>3.1</td>\n",
              "      <td>1.5</td>\n",
              "      <td>0.1</td>\n",
              "    </tr>\n",
              "  </tbody>\n",
              "</table>\n",
              "</div>"
            ],
            "text/plain": [
              "    sepal length (cm)  sepal width (cm)  petal length (cm)  petal width (cm)\n",
              "79                5.7               2.6                3.5               1.0\n",
              "95                5.7               3.0                4.2               1.2\n",
              "36                5.5               3.5                1.3               0.2\n",
              "75                6.6               3.0                4.4               1.4\n",
              "9                 4.9               3.1                1.5               0.1"
            ]
          },
          "metadata": {
            "tags": []
          },
          "execution_count": 18
        }
      ]
    },
    {
      "cell_type": "code",
      "metadata": {
        "id": "TYbf7R4mrSBe",
        "colab_type": "code",
        "colab": {
          "base_uri": "https://localhost:8080/",
          "height": 297
        },
        "outputId": "5ea35bbb-1287-4a48-bfcd-c48566a6f32f"
      },
      "source": [
        "X.describe() # Retorna uma descrição do data set."
      ],
      "execution_count": null,
      "outputs": [
        {
          "output_type": "execute_result",
          "data": {
            "text/html": [
              "<div>\n",
              "<style scoped>\n",
              "    .dataframe tbody tr th:only-of-type {\n",
              "        vertical-align: middle;\n",
              "    }\n",
              "\n",
              "    .dataframe tbody tr th {\n",
              "        vertical-align: top;\n",
              "    }\n",
              "\n",
              "    .dataframe thead th {\n",
              "        text-align: right;\n",
              "    }\n",
              "</style>\n",
              "<table border=\"1\" class=\"dataframe\">\n",
              "  <thead>\n",
              "    <tr style=\"text-align: right;\">\n",
              "      <th></th>\n",
              "      <th>sepal length (cm)</th>\n",
              "      <th>sepal width (cm)</th>\n",
              "      <th>petal length (cm)</th>\n",
              "      <th>petal width (cm)</th>\n",
              "    </tr>\n",
              "  </thead>\n",
              "  <tbody>\n",
              "    <tr>\n",
              "      <th>count</th>\n",
              "      <td>150.000000</td>\n",
              "      <td>150.000000</td>\n",
              "      <td>150.000000</td>\n",
              "      <td>150.000000</td>\n",
              "    </tr>\n",
              "    <tr>\n",
              "      <th>mean</th>\n",
              "      <td>5.843333</td>\n",
              "      <td>3.057333</td>\n",
              "      <td>3.758000</td>\n",
              "      <td>1.199333</td>\n",
              "    </tr>\n",
              "    <tr>\n",
              "      <th>std</th>\n",
              "      <td>0.828066</td>\n",
              "      <td>0.435866</td>\n",
              "      <td>1.765298</td>\n",
              "      <td>0.762238</td>\n",
              "    </tr>\n",
              "    <tr>\n",
              "      <th>min</th>\n",
              "      <td>4.300000</td>\n",
              "      <td>2.000000</td>\n",
              "      <td>1.000000</td>\n",
              "      <td>0.100000</td>\n",
              "    </tr>\n",
              "    <tr>\n",
              "      <th>25%</th>\n",
              "      <td>5.100000</td>\n",
              "      <td>2.800000</td>\n",
              "      <td>1.600000</td>\n",
              "      <td>0.300000</td>\n",
              "    </tr>\n",
              "    <tr>\n",
              "      <th>50%</th>\n",
              "      <td>5.800000</td>\n",
              "      <td>3.000000</td>\n",
              "      <td>4.350000</td>\n",
              "      <td>1.300000</td>\n",
              "    </tr>\n",
              "    <tr>\n",
              "      <th>75%</th>\n",
              "      <td>6.400000</td>\n",
              "      <td>3.300000</td>\n",
              "      <td>5.100000</td>\n",
              "      <td>1.800000</td>\n",
              "    </tr>\n",
              "    <tr>\n",
              "      <th>max</th>\n",
              "      <td>7.900000</td>\n",
              "      <td>4.400000</td>\n",
              "      <td>6.900000</td>\n",
              "      <td>2.500000</td>\n",
              "    </tr>\n",
              "  </tbody>\n",
              "</table>\n",
              "</div>"
            ],
            "text/plain": [
              "       sepal length (cm)  sepal width (cm)  petal length (cm)  petal width (cm)\n",
              "count         150.000000        150.000000         150.000000        150.000000\n",
              "mean            5.843333          3.057333           3.758000          1.199333\n",
              "std             0.828066          0.435866           1.765298          0.762238\n",
              "min             4.300000          2.000000           1.000000          0.100000\n",
              "25%             5.100000          2.800000           1.600000          0.300000\n",
              "50%             5.800000          3.000000           4.350000          1.300000\n",
              "75%             6.400000          3.300000           5.100000          1.800000\n",
              "max             7.900000          4.400000           6.900000          2.500000"
            ]
          },
          "metadata": {
            "tags": []
          },
          "execution_count": 19
        }
      ]
    },
    {
      "cell_type": "markdown",
      "metadata": {
        "id": "0ls12W6M1oJ4",
        "colab_type": "text"
      },
      "source": [
        "\n",
        "\n",
        "---\n",
        "\n"
      ]
    },
    {
      "cell_type": "markdown",
      "metadata": {
        "id": "5uTi6VZo1CPj",
        "colab_type": "text"
      },
      "source": [
        "A partir daqui, vamos resumir um pouco de algumas funções ligadas a estatística, utilizadas na AED."
      ]
    },
    {
      "cell_type": "markdown",
      "metadata": {
        "id": "DefjBx9osjQB",
        "colab_type": "text"
      },
      "source": [
        "###Média\n",
        "A média ou média aritmética, nada mais é do que a soma de todos os dados da amostra dividido pela quantidade de amostras. Assim temos a fórmula abaixo:\n",
        "\n",
        "## $$\\bar{x} = \\frac{x_{1}+ {x_{2}}+{x_{3}}+...+{x_{n}}}{n} = \\frac{\\sum_{i}^{n} x_{i=1^{x_{i}}}}{n}$$\n",
        "\n",
        "\n",
        "Vamos ver o exemplo com o seguinte conjunto X de dados:\n",
        "\n",
        "X = {2, 4, 12, 54, 3}\n",
        "\n",
        "Assim, podemos encontrar a média para o conjunto X aplicando a fórmula da média encontrando o resultado abaixo:\n",
        "\n",
        "#### $$ {X} =  \\frac{2 + 4 + 12 + 54 + 3}{5} = 15 $$\n",
        "\n",
        "\n",
        "\n",
        "\n",
        "Na biblioteca pandas, utilizamos a função *.mean()* para se encarregar de calcular a média:"
      ]
    },
    {
      "cell_type": "code",
      "metadata": {
        "id": "53C5absQsi0k",
        "colab_type": "code",
        "colab": {
          "base_uri": "https://localhost:8080/",
          "height": 34
        },
        "outputId": "3e37bee0-9bfa-434c-f4ce-ba9141b9cd69"
      },
      "source": [
        "media = X['sepal length (cm)'].mean() # Média da coluna\n",
        "print(\"Média \", media)"
      ],
      "execution_count": null,
      "outputs": [
        {
          "output_type": "stream",
          "text": [
            "Média  5.843333333333335\n"
          ],
          "name": "stdout"
        }
      ]
    },
    {
      "cell_type": "markdown",
      "metadata": {
        "id": "IMlIi5TbszHi",
        "colab_type": "text"
      },
      "source": [
        "###Mediana\n",
        "Mediana ($M_{d}$) é o valor representado pela amostra central, estando as amostras ordenadas em valores crescentes, caso o total de elementos for par, será necessário calcular a média dos dois valores centrais.\n",
        "\n",
        "Vejamos os exemplos com os conjuntos de dados A e B abaixo:\n",
        "\n",
        "A = {3, 1, 8}\n",
        "\n",
        "B = {6, 4, 7, 2}\n",
        "\n",
        "Vamos calcular a mediana para o conjunto A:\n",
        "\n",
        "Ordenar o conjunto: A = {1, 3, 8}\n",
        "\n",
        "O número de elementos é **ímpar**, então a mediana é o valor central: $M_{d}$ = 3\n",
        "\n",
        "Vamos calcular agora a mediana para o conjunto B:\n",
        "\n",
        "Ordenar o conjunto: B = {2, 4, 6, 7}\n",
        "\n",
        "O número de elementos é **par**, então a mediana são os dois valores centrais dividido por 2: $M_{d}$ = (4 + 6)/2 = 5\n",
        "\n",
        "\n",
        "No pandas a função *.median()* é a responsável por resolver a mediana."
      ]
    },
    {
      "cell_type": "code",
      "metadata": {
        "id": "BHDcgj8u9qLF",
        "colab_type": "code",
        "colab": {
          "base_uri": "https://localhost:8080/",
          "height": 34
        },
        "outputId": "27735b63-6928-455d-adfa-40cc5eae513b"
      },
      "source": [
        "mediana = X['sepal length (cm)'].median() # Mediana da coluna\n",
        "print(\"Mediana \", mediana)"
      ],
      "execution_count": null,
      "outputs": [
        {
          "output_type": "stream",
          "text": [
            "Mediana  5.8\n"
          ],
          "name": "stdout"
        }
      ]
    },
    {
      "cell_type": "markdown",
      "metadata": {
        "id": "x8wzX_Vgs-ze",
        "colab_type": "text"
      },
      "source": [
        "###Moda\n",
        "A **Moda** ($M_{o}$) é o valor que aparece com mais frequência em um conjunto de dados, ou seja, o valor que se repete mais vezes. Para fazermos o cálculo da moda de um conjunto de dados, basta encontrar os dados que mais aparecem no conjunto.\n",
        "\n",
        "Vejamos os exemplos para os conjuntos de dados  A e B abaixo:\n",
        "\n",
        "A = {2, 23, 4, 2, 5}\n",
        "\n",
        "B = {17, 21, 2, 21, 8, 2}\n",
        "\n",
        "Para o conjunto A, temos a moda: $M_{o}$ = 2. É o número que mais aparece no conjunto.\n",
        "\n",
        "Para o conjunto B, temos a moda é: $M_{o}$ = 2 e 21. Que são os números que mais aparecem no conjunto. Então, podemos dizer que o conjunto B é **bimodal** (possui duas modas).\n",
        "\n",
        "\n",
        "Utilizamos a função *.mode()* no pandas para solucionar a moda da variável ou conjunto de dados específicos."
      ]
    },
    {
      "cell_type": "code",
      "metadata": {
        "id": "4fh1t8Cz-el8",
        "colab_type": "code",
        "colab": {
          "base_uri": "https://localhost:8080/",
          "height": 34
        },
        "outputId": "cf963044-27b3-4ffc-d4a1-00b901f70ba9"
      },
      "source": [
        "moda = X['sepal length (cm)'].mode() # Moda da coluna\n",
        "print(\"Moda \", moda[0])\t"
      ],
      "execution_count": null,
      "outputs": [
        {
          "output_type": "stream",
          "text": [
            "Moda  5.0\n"
          ],
          "name": "stdout"
        }
      ]
    },
    {
      "cell_type": "markdown",
      "metadata": {
        "id": "Xcxn_eWktOyG",
        "colab_type": "text"
      },
      "source": [
        "###Variância\n",
        "A variância é uma medida de dispersão dos dados, mede o quão afastados os dados estão da média. Quanto maior a variância, mais afastados os dados encontram-se da média. Assim temos a variância populacional ($\\sigma^{2}$), exemplificada pela fórmula:\n",
        "\n",
        "###$$\\sigma^{2} = \\frac{\\sum^n_{i=1}(x_i - \\mu)^2}{n}$$\n",
        "\n",
        "Onde $n$ é o tamanho da população, $x_i$ são os elementos da população e $\\mu$ é a média populacional.\n",
        "\n",
        "Assim também temos a variância amostral é dada por:\n",
        "\n",
        "###$$S^2 = \\frac{\\sum^n_{i=1}(x_i - \\overline{x})^2}{n - 1}$$\n",
        "\n",
        "Mas qual motivo disso? Quando utilizamos a variância de uma amostra usando ($n-1$), a variância obtida será a melhor estimativa da variância da população. torna-se assim uma estimativa não tendenciosa e com menor erro médio."
      ]
    },
    {
      "cell_type": "code",
      "metadata": {
        "id": "RCFjCVur_GnG",
        "colab_type": "code",
        "colab": {
          "base_uri": "https://localhost:8080/",
          "height": 34
        },
        "outputId": "194e6163-d87a-485c-986f-b1bb0d8e9672"
      },
      "source": [
        "variancia = X['sepal length (cm)'].var() # Variância da coluna\n",
        "print(\"Variância \", variancia)"
      ],
      "execution_count": null,
      "outputs": [
        {
          "output_type": "stream",
          "text": [
            "Variância  0.6856935123042505\n"
          ],
          "name": "stdout"
        }
      ]
    },
    {
      "cell_type": "markdown",
      "metadata": {
        "id": "xj-DCDh6theZ",
        "colab_type": "text"
      },
      "source": [
        "###Desvio Padrão\n",
        "O desvio padrão (*standard deviation*) é a raiz quadrada da variância. Toda discussão em relação à variância populacional Vs. amostral se aplica, com as devidas mudanças, ao desvio padrão. \n",
        "\n",
        " Podemos exemplificar o desvio padrão amostral ($s$) com a fórmula:\n",
        "\n",
        " ### $$s = \\sqrt{\\frac{\\sum^{n}_{i=1}(x_i-\\overline{x})^2}{n-1}}$$"
      ]
    },
    {
      "cell_type": "code",
      "metadata": {
        "id": "_MJ31GL__lGm",
        "colab_type": "code",
        "colab": {
          "base_uri": "https://localhost:8080/",
          "height": 34
        },
        "outputId": "676fa562-a73d-4f93-f282-96f00685446e"
      },
      "source": [
        "desvio = X['sepal length (cm)'].std() # Desvio padrão da coluna\n",
        "print(\"Desvio padrão \", desvio)"
      ],
      "execution_count": null,
      "outputs": [
        {
          "output_type": "stream",
          "text": [
            "Desvio padrão  0.8280661279778629\n"
          ],
          "name": "stdout"
        }
      ]
    },
    {
      "cell_type": "markdown",
      "metadata": {
        "id": "RcrH840Jtxe9",
        "colab_type": "text"
      },
      "source": [
        "###Quantis\n",
        "\n",
        "Além da média, variância e desvio padrão, existem outras medidas de centralidade e dispersão dos dados univariadas que pode ser muito útil durante a análise exploratória dos dados, uma dessas medidas é o quantil.\n",
        "\n",
        "\n",
        "Quantis são pontos que dividem uma distribuição de probabilidade em partições de tamanhos iguais.  Eles podem ser quantis (sendo o 1º quantil correspondente a 25% dos dados, o segundo quantil correspondente a 50% dos dados – a mediana e o 3º quantil correspondente a 75% dos dados) ou percentis (dividem a amostra em 100 partes).\n"
      ]
    },
    {
      "cell_type": "code",
      "metadata": {
        "id": "p1FOeV9I_qPW",
        "colab_type": "code",
        "colab": {
          "base_uri": "https://localhost:8080/",
          "height": 68
        },
        "outputId": "664585e2-d4f0-43bb-fa05-b95a56792b33"
      },
      "source": [
        "Q1 = X['sepal length (cm)'].quantile(0.25)\n",
        "Q2 = X['sepal length (cm)'].quantile(0.5)\n",
        "Q3 = X['sepal length (cm)'].quantile(0.75)\n",
        "print('Primeiro quantil ', Q1)\n",
        "print('Segundo quantil (Mediana)', Q2)\n",
        "print('Terceiro quantil ', Q3)"
      ],
      "execution_count": null,
      "outputs": [
        {
          "output_type": "stream",
          "text": [
            "Primeiro quantil  5.1\n",
            "Segundo quantil (Mediana) 5.8\n",
            "Terceiro quantil  6.4\n"
          ],
          "name": "stdout"
        }
      ]
    },
    {
      "cell_type": "markdown",
      "metadata": {
        "id": "eIsuBpJXt7oO",
        "colab_type": "text"
      },
      "source": [
        "###Intervalo Interquartil (IQR)\n",
        "O **IQR** (do inglês, *Interquartile Range*), é a diferença entre o terceiro e primeiro quartis: **IQR = Q3−Q1**. É uma medida de dispersão robusta muito utilizada, por exemplo, quando os dados contêm muitos outliers por ser menos sensível às variações nos extremos do conjunto.\n",
        "\n",
        "Para verificar se há presença de outliers geralmente se utiliza o valor de **1.5*IQR** ou **3*IQR**. Outra forma de verificar seria utilizar a medida de 3 desvios padrões.\n"
      ]
    },
    {
      "cell_type": "code",
      "metadata": {
        "id": "PxkNwuK3t7WI",
        "colab_type": "code",
        "colab": {
          "base_uri": "https://localhost:8080/",
          "height": 34
        },
        "outputId": "386c66d4-e8a4-4a86-feb4-875ca6ca4990"
      },
      "source": [
        "IQR = Q3 - Q1\n",
        "print('Intervalo interquartil ', IQR)"
      ],
      "execution_count": null,
      "outputs": [
        {
          "output_type": "stream",
          "text": [
            "Intervalo interquartil  1.3000000000000007\n"
          ],
          "name": "stdout"
        }
      ]
    },
    {
      "cell_type": "markdown",
      "metadata": {
        "id": "iOPUVfwauM_b",
        "colab_type": "text"
      },
      "source": [
        "##Boxplots\n",
        "**Boxplot** é utilizado para avaliar e comparar o formato, tendência central e variabilidade de distribuições de amostra, e para procurar por outliers. Por padrão, um boxplot demonstra a mediana, os quartis, o *intervalo interquartil(IQR)* e outliers para cada variável. \n",
        "\n",
        "Nesta imagem demonstramos como são exibidas esses dados no boxplot.\n",
        "\n",
        "![Boxplot](https://dadosaocubo.com/wp-content/uploads/2020/07/intervalo_interquartil-1.png)\n",
        "\n",
        "\n",
        "No jupyter notebook utilizamos a função .boxplot() da biblioteca gráfica [Seaborn](https://seaborn.pydata.org/index.html). Como demonstrado abaixo."
      ]
    },
    {
      "cell_type": "code",
      "metadata": {
        "id": "hIWaQcIb_zMz",
        "colab_type": "code",
        "colab": {
          "base_uri": "https://localhost:8080/",
          "height": 296
        },
        "outputId": "f694281b-c971-47d5-91f4-b70cfe46b180"
      },
      "source": [
        "sns.boxplot(X['sepal length (cm)'])"
      ],
      "execution_count": null,
      "outputs": [
        {
          "output_type": "execute_result",
          "data": {
            "text/plain": [
              "<matplotlib.axes._subplots.AxesSubplot at 0x7f6d46df1f98>"
            ]
          },
          "metadata": {
            "tags": []
          },
          "execution_count": 27
        },
        {
          "output_type": "display_data",
          "data": {
            "image/png": "[encoded data removed]",
            "text/plain": [
              "<Figure size 432x288 with 1 Axes>"
            ]
          },
          "metadata": {
            "tags": [],
            "needs_background": "light"
          }
        }
      ]
    },
    {
      "cell_type": "markdown",
      "metadata": {
        "id": "1B37v8SDuXch",
        "colab_type": "text"
      },
      "source": [
        "##Histogramas\n",
        "Um histograma é uma visualização gráfica de dados usando barras de diferentes alturas. Em um histograma, cada barra agrupa números em intervalos. As barras mais altas mostram que mais dados estão nesse intervalo. Um histograma exibe a forma e distribuição de dados amostrais discretos ou contínuos.\n"
      ]
    },
    {
      "cell_type": "code",
      "metadata": {
        "id": "aPKK3NZG_1gO",
        "colab_type": "code",
        "colab": {
          "base_uri": "https://localhost:8080/",
          "height": 296
        },
        "outputId": "b48811b6-5e7c-450a-bcc2-ab9f07d81e63"
      },
      "source": [
        "sns.distplot(X['sepal length (cm)']) "
      ],
      "execution_count": null,
      "outputs": [
        {
          "output_type": "execute_result",
          "data": {
            "text/plain": [
              "<matplotlib.axes._subplots.AxesSubplot at 0x7f6d46d20550>"
            ]
          },
          "metadata": {
            "tags": []
          },
          "execution_count": 28
        },
        {
          "output_type": "display_data",
          "data": {
            "image/png": "[encoded data removed]",
            "text/plain": [
              "<Figure size 432x288 with 1 Axes>"
            ]
          },
          "metadata": {
            "tags": [],
            "needs_background": "light"
          }
        }
      ]
    },
    {
      "cell_type": "markdown",
      "metadata": {
        "id": "wC6v_Kz62rOd",
        "colab_type": "text"
      },
      "source": [
        "Vocês devem ter observado que utilizamos na célula acima a função **distplot()**. Essa função combina a função hist da biblioteca matplotlib (com cálculo automático de um bom tamanho de *bins¹* padrão) com as funções **kdeplot**(ajuste e plota uma estimativa de densidade de kernel univariada ou bivariada) e  **rugplot**(plota um “tique” para cada ocorrência em uma variável do dataset) da biblioteca *Seaborn*.\n",
        "\n",
        "\n",
        "\n",
        "> ¹ Dados numéricos em grupos de intervalos idênticos.\n",
        "\n"
      ]
    },
    {
      "cell_type": "markdown",
      "metadata": {
        "id": "JQEnYCkKumTT",
        "colab_type": "text"
      },
      "source": [
        "##Assimetria (*Skewness*)\n",
        "**Assimetria** é, na verdade, uma medida de simetria. Ela nos diz o quão simétrica é a distribuição dos dados em torno da média, e junto com a curtose (kurtosis) que veremos em seguida, é uma medida muito boa para informar a aparência ou forma da distribuição dos dados.\n",
        "\n",
        "Valores zero da assimetria indicam que os dados têm distribuição simétrica em relação ao centro. Já valores positivos indicam que a distribuição tem assimetria positiva, ou seja, a cauda direita é mais longa do que a cauda esquerda. Por outro lado, valores negativos indicam que a distribuição tem assimetria negativa, ou seja, a cauda esquerda é mais longa do que a cauda direita. Podemos ver todas essas variações na figura abaixo:\n",
        "\n",
        "![Skewness](https://dadosaocubo.com/wp-content/uploads/2020/07/image10.png)\n",
        "\n",
        "Em pandas, usamos a função *.skew()* para analisar a **assimetria**."
      ]
    },
    {
      "cell_type": "code",
      "metadata": {
        "id": "rNVZ_vyMuwhy",
        "colab_type": "code",
        "colab": {
          "base_uri": "https://localhost:8080/",
          "height": 34
        },
        "outputId": "9dc81c8b-29b9-4ea0-db3b-17ac25345952"
      },
      "source": [
        "assimetria = X['sepal length (cm)'].skew()\n",
        "print('Assimetria(Skewness) ', assimetria)"
      ],
      "execution_count": null,
      "outputs": [
        {
          "output_type": "stream",
          "text": [
            "Assimetria(Skewness)  0.3149109566369728\n"
          ],
          "name": "stdout"
        }
      ]
    },
    {
      "cell_type": "markdown",
      "metadata": {
        "id": "ocSyBV0du9Ea",
        "colab_type": "text"
      },
      "source": [
        "##Curtose (*Kurtosis*)\n",
        "Curtose ou achatamento também é uma medida que nos ajuda a dar forma à distribuição dos dados. A curtose, diferente da assimetria, tenta capturar em uma medida a forma das caudas da distribuição.\n",
        "\n",
        "Temos basicamente três tipos de distribuição. \n",
        "\n",
        "* **Leptocúrtica**, onde as caudas são mais pesadas e o pico da distribuição mais alto. \n",
        "* **Platicúrtica**, onde as caudas são menos pesadas e a distribuição é mais achatada. \n",
        "* **Mesocúrtica**, quando se assemelha a distribuição normal.\n",
        "\n",
        "![Curtose](https://dadosaocubo.com/wp-content/uploads/2020/07/image8.png)\n",
        "\n",
        "Para analisar o achatamento da curva curtose no pandas, utilizamos a função *.kurtosis()*."
      ]
    },
    {
      "cell_type": "code",
      "metadata": {
        "id": "3wLrhfqVu9VG",
        "colab_type": "code",
        "colab": {
          "base_uri": "https://localhost:8080/",
          "height": 34
        },
        "outputId": "bc8abbef-f910-427d-d2bf-729d04dd1784"
      },
      "source": [
        "curtose = X['sepal length (cm)'].kurtosis()\n",
        "print('Curtose ', curtose)"
      ],
      "execution_count": null,
      "outputs": [
        {
          "output_type": "stream",
          "text": [
            "Curtose  -0.5520640413156395\n"
          ],
          "name": "stdout"
        }
      ]
    },
    {
      "cell_type": "markdown",
      "metadata": {
        "id": "N8-pYIPxvSD8",
        "colab_type": "text"
      },
      "source": [
        "Bem pessoal, acho que com esse conteúdo já dá pra explorar bastante os dados, mas não para por aqui, teremos mais conteúdos relacionados a análise exploratória de dados. Não deixem de nos acompanhar nas redes sociais para ficar sempre atualizado sobre nossas postagens, se vocês estão gostando, curtam, compartilhem, comentem...Todo feedback será bem vindo! \n",
        "\n",
        " \n",
        "Um abraço a todos e até a próxima!\n"
      ]
    },
    {
      "cell_type": "markdown",
      "metadata": {
        "id": "2MbGlZJ9vUtP",
        "colab_type": "text"
      },
      "source": [
        "##Referências:\n",
        "[Análise Exploratória de Dados\n",
        "](http://www.each.usp.br/lauretto/SIN5008_2011/aula01/aula1)\n",
        "\n",
        "[Variáveis](http://www.each.usp.br/lauretto/SIN5008_2011/aula01/aula1)\n",
        "\n",
        "[Boxplot](https://support.minitab.com/pt-br/minitab/18/help-and-how-to/graphs/how-to/boxplot/before-you-start/overview/)\n",
        "\n",
        "[Histogramas](https://pt.khanacademy.org/math/ap-statistics/quantitative-data-ap/histograms-stem-leaf/v/histograms-intro)\n",
        " \n",
        "####Para se aprofundar ainda mais:\n",
        "\n",
        "[Estatística Aplicada](https://www.amazon.com.br/gp/product/8502177567/ref=as_li_qf_asin_il_tl?ie=UTF8&tag=dadosaocubo-20&creative=9325&linkCode=as2&creativeASIN=8502177567&linkId=198a9c47f7d0c81890210a34a18837cf)\n",
        "\n",
        "[Estatística Prática Para Cientistas de Dados](https://www.amazon.com.br/gp/product/855080603X/ref=as_li_qf_asin_il_tl?ie=UTF8&tag=dadosaocubo-20&creative=9325&linkCode=as2&creativeASIN=855080603X&linkId=317ae2fe1e7913a11f6be91200db400f)\n",
        "\n",
        "[Machine Learning - Guia de Referência Rápida](https://www.amazon.com.br/gp/product/857522817X/ref=as_li_qf_asin_il_tl?ie=UTF8&tag=dadosaocubo-20&creative=9325&linkCode=as2&creativeASIN=857522817X&linkId=4b3ffdb5d79479ae6afa828af4a67756)\n"
      ]
    }
  ]
}