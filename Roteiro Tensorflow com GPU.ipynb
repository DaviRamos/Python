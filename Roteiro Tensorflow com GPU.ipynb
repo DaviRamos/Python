{
 "cells": [
  {
   "cell_type": "markdown",
   "metadata": {},
   "source": [
    "#  Roteiro para instalar o Conda com Tensorflow e suporte a GPU no Windows 10"
   ]
  },
  {
   "cell_type": "markdown",
   "metadata": {},
   "source": [
    "1 - Instalei o driver direto do windwos update via gerenciador de dispositivos\n",
    "2 - Baixei o CUDA 11 para Windows\n",
    "3 - Baixei o CUDaCDDN para o CUDA 11 Windows\n",
    "4 - Copiei os arquivos do CUDaCDDN para as suas respecitvas pastas no CUDA\n",
    "5 - Verifquei as variaveis do CUDA no path  dpo Windows\n",
    "6 - ACessar o ambvbiente conda\n",
    "7 - Instalar o tensorflow com suporte a GPU: install tensorflow-gpu\n",
    "8 - Instalr o jupyter no ambiente conda escolhido\n",
    "9 - Rodar o script abaixo para testar o suporte."
   ]
  },
  {
   "cell_type": "code",
   "execution_count": 1,
   "metadata": {},
   "outputs": [],
   "source": [
    "import tensorflow as tf "
   ]
  },
  {
   "cell_type": "code",
   "execution_count": 2,
   "metadata": {},
   "outputs": [
    {
     "data": {
      "text/plain": [
       "True"
      ]
     },
     "execution_count": 2,
     "metadata": {},
     "output_type": "execute_result"
    }
   ],
   "source": [
    "tf.test.is_built_with_cuda()"
   ]
  },
  {
   "cell_type": "code",
   "execution_count": 3,
   "metadata": {},
   "outputs": [
    {
     "data": {
      "text/plain": [
       "True"
      ]
     },
     "execution_count": 3,
     "metadata": {},
     "output_type": "execute_result"
    }
   ],
   "source": [
    "tf.test.is_gpu_available(cuda_only=False, min_cuda_compute_capability=None)"
   ]
  },
  {
   "cell_type": "code",
   "execution_count": null,
   "metadata": {},
   "outputs": [],
   "source": []
  }
 ],
 "metadata": {
  "kernelspec": {
   "display_name": "Python 3",
   "language": "python",
   "name": "python3"
  },
  "language_info": {
   "codemirror_mode": {
    "name": "ipython",
    "version": 3
   },
   "file_extension": ".py",
   "mimetype": "text/x-python",
   "name": "python",
   "nbconvert_exporter": "python",
   "pygments_lexer": "ipython3",
   "version": "3.6.7"
  }
 },
 "nbformat": 4,
 "nbformat_minor": 2
}
